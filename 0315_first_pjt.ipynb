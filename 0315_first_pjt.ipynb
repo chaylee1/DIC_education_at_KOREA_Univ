{
  "nbformat": 4,
  "nbformat_minor": 0,
  "metadata": {
    "colab": {
      "name": "0315_first_pjt.ipynb",
      "provenance": [],
      "authorship_tag": "ABX9TyOKtiDo5eR3Uc6jdadOYesJ"
    },
    "kernelspec": {
      "name": "python3",
      "display_name": "Python 3"
    },
    "language_info": {
      "name": "python"
    }
  },
  "cells": [
    {
      "cell_type": "code",
      "execution_count": 1,
      "metadata": {
        "colab": {
          "base_uri": "https://localhost:8080/"
        },
        "id": "d67XWGqxuhXD",
        "outputId": "fd3619de-2cd0-4a0b-a448-f652b7b9d325"
      },
      "outputs": [
        {
          "output_type": "stream",
          "name": "stdout",
          "text": [
            "Cloning into 'DIC_education_at_KOREA_Univ'...\n",
            "remote: Enumerating objects: 12, done.\u001b[K\n",
            "remote: Counting objects: 100% (12/12), done.\u001b[K\n",
            "remote: Compressing objects: 100% (11/11), done.\u001b[K\n",
            "remote: Total 12 (delta 0), reused 0 (delta 0), pack-reused 0\u001b[K\n",
            "Unpacking objects: 100% (12/12), done.\n"
          ]
        }
      ],
      "source": [
        "# github에서 데이터 불러오기\n",
        "!git clone https://github.com/chaylee1/DIC_education_at_KOREA_Univ.git"
      ]
    },
    {
      "cell_type": "code",
      "source": [
        "import os, re, json\n",
        "import pandas as pd\n",
        "import matplotlib.pyplot as plt\n",
        "\n",
        "from tqdm import tqdm\n",
        "\n",
        "from gensim.models import FastText\n",
        "from gensim.test.utils import datapath, get_tmpfile\n"
      ],
      "metadata": {
        "id": "q7dTPg7HxBhl"
      },
      "execution_count": 2,
      "outputs": []
    },
    {
      "cell_type": "code",
      "source": [
        "def remove_symbols_stopwords(data):\n",
        "    data['remove_symbols'] = [re.sub('[^A-Za-z0-9가-힣]', '', s) for s in data['asrresult']]\n",
        "     \n",
        "    remove_stopwords = []\n",
        "    for s in tqdm(data['remove_symbols']):\n",
        "        tokenized = ['<']\n",
        "        for i in range(len(s)):\n",
        "            tokenized.append(s[i])\n",
        "        tokenized.append('>')\n",
        "        \n",
        "        s = ''\n",
        "        for l in range(len(tokenized)):\n",
        "            s += tokenized[l]\n",
        "            \n",
        "        remove_stopwords.append(s)\n",
        "    \n",
        "    data['remove_stopwords'] = pd.Series(remove_stopwords, index=data.index)\n",
        "    return data\n"
      ],
      "metadata": {
        "id": "HZ1mxnJ6y7xo"
      },
      "execution_count": 3,
      "outputs": []
    },
    {
      "cell_type": "code",
      "source": [
        "def train_FastText(data: pd.DataFrame,\n",
        "                latent_dim: int,\n",
        "                window_size: int,\n",
        "                workers=-1,\n",
        "                sg: int=0):\n",
        "    model = FastText(vector_size=latent_dim,\n",
        "                     window=window_size, min_count=1,\n",
        "                     workers=workers, sg=sg)\n",
        "    model.build_vocab(corpus_iterable=data['remove_stopwords'])\n",
        "    model.train(\n",
        "        epochs=300,\n",
        "        corpus_iterable=data['remove_stopwords'],\n",
        "        total_examples=10000)\n",
        "    \n",
        "    data_fasttext = []\n",
        "    for i in list(data.index):\n",
        "        t = data.loc[i, 'remove_stopwords']\n",
        "        \n",
        "        tmp_fasttest = []\n",
        "        for i in range(len(t)-window_size+1):\n",
        "            chr_split = model.wv[t[i:i+window_size]].tolist()\n",
        "            tmp_fasttest.append(chr_split)\n",
        "        \n",
        "        data_fasttext.append(tmp_fasttest)\n",
        "        \n",
        "    return model, data_fasttext\n"
      ],
      "metadata": {
        "id": "aB1WeTh9y-Gx"
      },
      "execution_count": 4,
      "outputs": []
    },
    {
      "cell_type": "code",
      "source": [
        "# root_dir = '/workspace/HDD/PROJECT/2022_LG/TextClassification'\n",
        "# data_dir = os.path.join(root_dir, 'data')\n",
        "# data_dir = '/content/DIC_education_at_KOREA_Univ'\n",
        "# data = pd.read_excel(os.path.join(data_dir, \"data_pjt.xlsx\"))\n",
        "\n",
        "data = pd.read_excel('/content/DIC_education_at_KOREA_Univ/test.xlsx')\n",
        "data\n",
        "\n"
      ],
      "metadata": {
        "colab": {
          "base_uri": "https://localhost:8080/",
          "height": 423
        },
        "id": "ZPQ3SFEZzAW8",
        "outputId": "7f1fa84d-a8de-4553-bddd-0de04643edde"
      },
      "execution_count": 5,
      "outputs": [
        {
          "output_type": "execute_result",
          "data": {
            "text/plain": [
              "      asrresult\n",
              "0      현재 시간뭐고 \n",
              "1      현재 시간뭐고 \n",
              "2      몇시야 몇시야 \n",
              "3           탈수 \n",
              "4    몇시야 4시 해봐 \n",
              "..          ...\n",
              "995        엑스맨 \n",
              "996      말 잘듣니 \n",
              "997  말 잘듣 냉장고는 \n",
              "998        비었어 \n",
              "999      말 잘듣니 \n",
              "\n",
              "[1000 rows x 1 columns]"
            ],
            "text/html": [
              "\n",
              "  <div id=\"df-9ee0a66b-a13d-438d-b133-9028248c1856\">\n",
              "    <div class=\"colab-df-container\">\n",
              "      <div>\n",
              "<style scoped>\n",
              "    .dataframe tbody tr th:only-of-type {\n",
              "        vertical-align: middle;\n",
              "    }\n",
              "\n",
              "    .dataframe tbody tr th {\n",
              "        vertical-align: top;\n",
              "    }\n",
              "\n",
              "    .dataframe thead th {\n",
              "        text-align: right;\n",
              "    }\n",
              "</style>\n",
              "<table border=\"1\" class=\"dataframe\">\n",
              "  <thead>\n",
              "    <tr style=\"text-align: right;\">\n",
              "      <th></th>\n",
              "      <th>asrresult</th>\n",
              "    </tr>\n",
              "  </thead>\n",
              "  <tbody>\n",
              "    <tr>\n",
              "      <th>0</th>\n",
              "      <td>현재 시간뭐고</td>\n",
              "    </tr>\n",
              "    <tr>\n",
              "      <th>1</th>\n",
              "      <td>현재 시간뭐고</td>\n",
              "    </tr>\n",
              "    <tr>\n",
              "      <th>2</th>\n",
              "      <td>몇시야 몇시야</td>\n",
              "    </tr>\n",
              "    <tr>\n",
              "      <th>3</th>\n",
              "      <td>탈수</td>\n",
              "    </tr>\n",
              "    <tr>\n",
              "      <th>4</th>\n",
              "      <td>몇시야 4시 해봐</td>\n",
              "    </tr>\n",
              "    <tr>\n",
              "      <th>...</th>\n",
              "      <td>...</td>\n",
              "    </tr>\n",
              "    <tr>\n",
              "      <th>995</th>\n",
              "      <td>엑스맨</td>\n",
              "    </tr>\n",
              "    <tr>\n",
              "      <th>996</th>\n",
              "      <td>말 잘듣니</td>\n",
              "    </tr>\n",
              "    <tr>\n",
              "      <th>997</th>\n",
              "      <td>말 잘듣 냉장고는</td>\n",
              "    </tr>\n",
              "    <tr>\n",
              "      <th>998</th>\n",
              "      <td>비었어</td>\n",
              "    </tr>\n",
              "    <tr>\n",
              "      <th>999</th>\n",
              "      <td>말 잘듣니</td>\n",
              "    </tr>\n",
              "  </tbody>\n",
              "</table>\n",
              "<p>1000 rows × 1 columns</p>\n",
              "</div>\n",
              "      <button class=\"colab-df-convert\" onclick=\"convertToInteractive('df-9ee0a66b-a13d-438d-b133-9028248c1856')\"\n",
              "              title=\"Convert this dataframe to an interactive table.\"\n",
              "              style=\"display:none;\">\n",
              "        \n",
              "  <svg xmlns=\"http://www.w3.org/2000/svg\" height=\"24px\"viewBox=\"0 0 24 24\"\n",
              "       width=\"24px\">\n",
              "    <path d=\"M0 0h24v24H0V0z\" fill=\"none\"/>\n",
              "    <path d=\"M18.56 5.44l.94 2.06.94-2.06 2.06-.94-2.06-.94-.94-2.06-.94 2.06-2.06.94zm-11 1L8.5 8.5l.94-2.06 2.06-.94-2.06-.94L8.5 2.5l-.94 2.06-2.06.94zm10 10l.94 2.06.94-2.06 2.06-.94-2.06-.94-.94-2.06-.94 2.06-2.06.94z\"/><path d=\"M17.41 7.96l-1.37-1.37c-.4-.4-.92-.59-1.43-.59-.52 0-1.04.2-1.43.59L10.3 9.45l-7.72 7.72c-.78.78-.78 2.05 0 2.83L4 21.41c.39.39.9.59 1.41.59.51 0 1.02-.2 1.41-.59l7.78-7.78 2.81-2.81c.8-.78.8-2.07 0-2.86zM5.41 20L4 18.59l7.72-7.72 1.47 1.35L5.41 20z\"/>\n",
              "  </svg>\n",
              "      </button>\n",
              "      \n",
              "  <style>\n",
              "    .colab-df-container {\n",
              "      display:flex;\n",
              "      flex-wrap:wrap;\n",
              "      gap: 12px;\n",
              "    }\n",
              "\n",
              "    .colab-df-convert {\n",
              "      background-color: #E8F0FE;\n",
              "      border: none;\n",
              "      border-radius: 50%;\n",
              "      cursor: pointer;\n",
              "      display: none;\n",
              "      fill: #1967D2;\n",
              "      height: 32px;\n",
              "      padding: 0 0 0 0;\n",
              "      width: 32px;\n",
              "    }\n",
              "\n",
              "    .colab-df-convert:hover {\n",
              "      background-color: #E2EBFA;\n",
              "      box-shadow: 0px 1px 2px rgba(60, 64, 67, 0.3), 0px 1px 3px 1px rgba(60, 64, 67, 0.15);\n",
              "      fill: #174EA6;\n",
              "    }\n",
              "\n",
              "    [theme=dark] .colab-df-convert {\n",
              "      background-color: #3B4455;\n",
              "      fill: #D2E3FC;\n",
              "    }\n",
              "\n",
              "    [theme=dark] .colab-df-convert:hover {\n",
              "      background-color: #434B5C;\n",
              "      box-shadow: 0px 1px 3px 1px rgba(0, 0, 0, 0.15);\n",
              "      filter: drop-shadow(0px 1px 2px rgba(0, 0, 0, 0.3));\n",
              "      fill: #FFFFFF;\n",
              "    }\n",
              "  </style>\n",
              "\n",
              "      <script>\n",
              "        const buttonEl =\n",
              "          document.querySelector('#df-9ee0a66b-a13d-438d-b133-9028248c1856 button.colab-df-convert');\n",
              "        buttonEl.style.display =\n",
              "          google.colab.kernel.accessAllowed ? 'block' : 'none';\n",
              "\n",
              "        async function convertToInteractive(key) {\n",
              "          const element = document.querySelector('#df-9ee0a66b-a13d-438d-b133-9028248c1856');\n",
              "          const dataTable =\n",
              "            await google.colab.kernel.invokeFunction('convertToInteractive',\n",
              "                                                     [key], {});\n",
              "          if (!dataTable) return;\n",
              "\n",
              "          const docLinkHtml = 'Like what you see? Visit the ' +\n",
              "            '<a target=\"_blank\" href=https://colab.research.google.com/notebooks/data_table.ipynb>data table notebook</a>'\n",
              "            + ' to learn more about interactive tables.';\n",
              "          element.innerHTML = '';\n",
              "          dataTable['output_type'] = 'display_data';\n",
              "          await google.colab.output.renderOutput(dataTable, element);\n",
              "          const docLink = document.createElement('div');\n",
              "          docLink.innerHTML = docLinkHtml;\n",
              "          element.appendChild(docLink);\n",
              "        }\n",
              "      </script>\n",
              "    </div>\n",
              "  </div>\n",
              "  "
            ]
          },
          "metadata": {},
          "execution_count": 5
        }
      ]
    },
    {
      "cell_type": "code",
      "source": [
        "data = remove_symbols_stopwords(data)\n",
        "\n",
        "print(data)\n",
        "\n",
        "model, data_fasttext = train_FastText(data,\n",
        "                                      latent_dim=100,\n",
        "                                      window_size=3,\n",
        "                                      workers=-1,\n",
        "                                      sg=0)\n",
        "\n",
        "with open(\"/content/DIC_education_at_KOREA_Univ/fasttext.json\", \"w\") as json_file:\n",
        "    json.dump(data_fasttext, json_file)\n",
        "json_file.close()\n",
        "\n",
        "save_model_pth = \"/content/DIC_education_at_KOREA_Univ/trained_fasttext.model\"\n",
        "model.save(save_model_pth)\n",
        "\n",
        "model = FastText.load(save_model_pth)"
      ],
      "metadata": {
        "id": "ouqt4uedzRI6",
        "colab": {
          "base_uri": "https://localhost:8080/",
          "height": 662
        },
        "outputId": "e213f7e7-df7b-41ef-fdd7-7e14209293ba"
      },
      "execution_count": 6,
      "outputs": [
        {
          "output_type": "stream",
          "name": "stderr",
          "text": [
            "100%|██████████| 1000/1000 [00:00<00:00, 153913.76it/s]\n"
          ]
        },
        {
          "output_type": "stream",
          "name": "stdout",
          "text": [
            "      asrresult remove_symbols remove_stopwords\n",
            "0      현재 시간뭐고          현재시간뭐고         <현재시간뭐고>\n",
            "1      현재 시간뭐고          현재시간뭐고         <현재시간뭐고>\n",
            "2      몇시야 몇시야          몇시야몇시야         <몇시야몇시야>\n",
            "3           탈수              탈수             <탈수>\n",
            "4    몇시야 4시 해봐         몇시야4시해봐        <몇시야4시해봐>\n",
            "..          ...            ...              ...\n",
            "995        엑스맨             엑스맨            <엑스맨>\n",
            "996      말 잘듣니            말잘듣니           <말잘듣니>\n",
            "997  말 잘듣 냉장고는         말잘듣냉장고는        <말잘듣냉장고는>\n",
            "998        비었어             비었어            <비었어>\n",
            "999      말 잘듣니            말잘듣니           <말잘듣니>\n",
            "\n",
            "[1000 rows x 3 columns]\n"
          ]
        },
        {
          "output_type": "error",
          "ename": "TypeError",
          "evalue": "ignored",
          "traceback": [
            "\u001b[0;31m---------------------------------------------------------------------------\u001b[0m",
            "\u001b[0;31mTypeError\u001b[0m                                 Traceback (most recent call last)",
            "\u001b[0;32m<ipython-input-6-5b9726e76ce3>\u001b[0m in \u001b[0;36m<module>\u001b[0;34m()\u001b[0m\n\u001b[1;32m      7\u001b[0m                                       \u001b[0mwindow_size\u001b[0m\u001b[0;34m=\u001b[0m\u001b[0;36m3\u001b[0m\u001b[0;34m,\u001b[0m\u001b[0;34m\u001b[0m\u001b[0;34m\u001b[0m\u001b[0m\n\u001b[1;32m      8\u001b[0m                                       \u001b[0mworkers\u001b[0m\u001b[0;34m=\u001b[0m\u001b[0;34m-\u001b[0m\u001b[0;36m1\u001b[0m\u001b[0;34m,\u001b[0m\u001b[0;34m\u001b[0m\u001b[0;34m\u001b[0m\u001b[0m\n\u001b[0;32m----> 9\u001b[0;31m                                       sg=0)\n\u001b[0m\u001b[1;32m     10\u001b[0m \u001b[0;34m\u001b[0m\u001b[0m\n\u001b[1;32m     11\u001b[0m \u001b[0;32mwith\u001b[0m \u001b[0mopen\u001b[0m\u001b[0;34m(\u001b[0m\u001b[0;34m\"/content/DIC_education_at_KOREA_Univ/fasttext.json\"\u001b[0m\u001b[0;34m,\u001b[0m \u001b[0;34m\"w\"\u001b[0m\u001b[0;34m)\u001b[0m \u001b[0;32mas\u001b[0m \u001b[0mjson_file\u001b[0m\u001b[0;34m:\u001b[0m\u001b[0;34m\u001b[0m\u001b[0;34m\u001b[0m\u001b[0m\n",
            "\u001b[0;32m<ipython-input-4-40faa2d57d70>\u001b[0m in \u001b[0;36mtrain_FastText\u001b[0;34m(data, latent_dim, window_size, workers, sg)\u001b[0m\n\u001b[1;32m      6\u001b[0m     model = FastText(vector_size=latent_dim,\n\u001b[1;32m      7\u001b[0m                      \u001b[0mwindow\u001b[0m\u001b[0;34m=\u001b[0m\u001b[0mwindow_size\u001b[0m\u001b[0;34m,\u001b[0m \u001b[0mmin_count\u001b[0m\u001b[0;34m=\u001b[0m\u001b[0;36m1\u001b[0m\u001b[0;34m,\u001b[0m\u001b[0;34m\u001b[0m\u001b[0;34m\u001b[0m\u001b[0m\n\u001b[0;32m----> 8\u001b[0;31m                      workers=workers, sg=sg)\n\u001b[0m\u001b[1;32m      9\u001b[0m     \u001b[0mmodel\u001b[0m\u001b[0;34m.\u001b[0m\u001b[0mbuild_vocab\u001b[0m\u001b[0;34m(\u001b[0m\u001b[0mcorpus_iterable\u001b[0m\u001b[0;34m=\u001b[0m\u001b[0mdata\u001b[0m\u001b[0;34m[\u001b[0m\u001b[0;34m'remove_stopwords'\u001b[0m\u001b[0;34m]\u001b[0m\u001b[0;34m)\u001b[0m\u001b[0;34m\u001b[0m\u001b[0;34m\u001b[0m\u001b[0m\n\u001b[1;32m     10\u001b[0m     model.train(\n",
            "\u001b[0;31mTypeError\u001b[0m: __init__() got an unexpected keyword argument 'vector_size'"
          ]
        }
      ]
    },
    {
      "cell_type": "code",
      "source": [
        ""
      ],
      "metadata": {
        "id": "m5pHhJexWlaJ"
      },
      "execution_count": null,
      "outputs": []
    }
  ]
}